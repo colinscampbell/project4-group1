{
 "cells": [
  {
   "cell_type": "code",
   "execution_count": 1,
   "metadata": {},
   "outputs": [],
   "source": [
    "import pandas as pd"
   ]
  },
  {
   "cell_type": "code",
   "execution_count": 2,
   "metadata": {},
   "outputs": [],
   "source": [
    "df = pd.read_json(\"Kindle_Store_5.json\", lines = True)"
   ]
  },
  {
   "cell_type": "code",
   "execution_count": 3,
   "metadata": {},
   "outputs": [],
   "source": [
    "df = df[df[\"unixReviewTime\"] > 1451628000] #drop any records before Jan 1, 2015\n",
    "df = df.drop(labels = [\"reviewTime\", \"image\", \"style\", \"reviewerName\"], axis=1) #drop unnecessary columns\n",
    "df = df[df[\"verified\"] == True]\n",
    "df = df.reset_index(drop=True) #reset index"
   ]
  },
  {
   "cell_type": "code",
   "execution_count": 16,
   "metadata": {},
   "outputs": [
    {
     "data": {
      "text/html": [
       "<div>\n",
       "<style scoped>\n",
       "    .dataframe tbody tr th:only-of-type {\n",
       "        vertical-align: middle;\n",
       "    }\n",
       "\n",
       "    .dataframe tbody tr th {\n",
       "        vertical-align: top;\n",
       "    }\n",
       "\n",
       "    .dataframe thead th {\n",
       "        text-align: right;\n",
       "    }\n",
       "</style>\n",
       "<table border=\"1\" class=\"dataframe\">\n",
       "  <thead>\n",
       "    <tr style=\"text-align: right;\">\n",
       "      <th></th>\n",
       "      <th>overall</th>\n",
       "      <th>verified</th>\n",
       "      <th>reviewerID</th>\n",
       "      <th>asin</th>\n",
       "      <th>reviewText</th>\n",
       "      <th>summary</th>\n",
       "      <th>unixReviewTime</th>\n",
       "      <th>vote</th>\n",
       "    </tr>\n",
       "  </thead>\n",
       "  <tbody>\n",
       "    <tr>\n",
       "      <th>0</th>\n",
       "      <td>5</td>\n",
       "      <td>True</td>\n",
       "      <td>A8WQ7MAG3HFOZ</td>\n",
       "      <td>B000FA5KK0</td>\n",
       "      <td>Love Max, always a fun twist</td>\n",
       "      <td>Five Stars</td>\n",
       "      <td>1473984000</td>\n",
       "      <td>NaN</td>\n",
       "    </tr>\n",
       "    <tr>\n",
       "      <th>1</th>\n",
       "      <td>5</td>\n",
       "      <td>True</td>\n",
       "      <td>A1E0MODSRYP7O</td>\n",
       "      <td>B000FA5KK0</td>\n",
       "      <td>As usual for him, a good book</td>\n",
       "      <td>a good</td>\n",
       "      <td>1456963200</td>\n",
       "      <td>NaN</td>\n",
       "    </tr>\n",
       "    <tr>\n",
       "      <th>2</th>\n",
       "      <td>5</td>\n",
       "      <td>True</td>\n",
       "      <td>AFVJCR70132Z</td>\n",
       "      <td>B000FBFMHU</td>\n",
       "      <td>This book was well written and well edited. It...</td>\n",
       "      <td>Great book</td>\n",
       "      <td>1518480000</td>\n",
       "      <td>NaN</td>\n",
       "    </tr>\n",
       "    <tr>\n",
       "      <th>3</th>\n",
       "      <td>5</td>\n",
       "      <td>True</td>\n",
       "      <td>A35TPI5B6O08A0</td>\n",
       "      <td>B000FBFMHU</td>\n",
       "      <td>This true story is amazing.  All the things he...</td>\n",
       "      <td>Amazing</td>\n",
       "      <td>1504828800</td>\n",
       "      <td>NaN</td>\n",
       "    </tr>\n",
       "    <tr>\n",
       "      <th>4</th>\n",
       "      <td>5</td>\n",
       "      <td>True</td>\n",
       "      <td>A25VQSS06RDWMJ</td>\n",
       "      <td>B000FBFMHU</td>\n",
       "      <td>It was a fun adventure to read.</td>\n",
       "      <td>Five Stars</td>\n",
       "      <td>1494720000</td>\n",
       "      <td>NaN</td>\n",
       "    </tr>\n",
       "    <tr>\n",
       "      <th>...</th>\n",
       "      <td>...</td>\n",
       "      <td>...</td>\n",
       "      <td>...</td>\n",
       "      <td>...</td>\n",
       "      <td>...</td>\n",
       "      <td>...</td>\n",
       "      <td>...</td>\n",
       "      <td>...</td>\n",
       "    </tr>\n",
       "    <tr>\n",
       "      <th>459266</th>\n",
       "      <td>4</td>\n",
       "      <td>True</td>\n",
       "      <td>A2GCEOF7KVQK1U</td>\n",
       "      <td>B01HJCNGZ2</td>\n",
       "      <td>Cute picture book for students in the primary ...</td>\n",
       "      <td>CAT CITY CAPER</td>\n",
       "      <td>1479254400</td>\n",
       "      <td>NaN</td>\n",
       "    </tr>\n",
       "    <tr>\n",
       "      <th>459267</th>\n",
       "      <td>5</td>\n",
       "      <td>True</td>\n",
       "      <td>A3ETWQJ8WRQFHX</td>\n",
       "      <td>B01HJCNGZ2</td>\n",
       "      <td>I love the three kittens, Charlie, Grace, and ...</td>\n",
       "      <td>Kitties, Pirates and Dawg!</td>\n",
       "      <td>1470700800</td>\n",
       "      <td>NaN</td>\n",
       "    </tr>\n",
       "    <tr>\n",
       "      <th>459268</th>\n",
       "      <td>5</td>\n",
       "      <td>True</td>\n",
       "      <td>ARKWPH17ITFGS</td>\n",
       "      <td>B01HJCNGZ2</td>\n",
       "      <td>My son has read (and fallen in love) with seve...</td>\n",
       "      <td>) I think this is the best book that Mr</td>\n",
       "      <td>1468540800</td>\n",
       "      <td>NaN</td>\n",
       "    </tr>\n",
       "    <tr>\n",
       "      <th>459269</th>\n",
       "      <td>5</td>\n",
       "      <td>True</td>\n",
       "      <td>AQ62OQDHMHBLY</td>\n",
       "      <td>B01HJCNGZ2</td>\n",
       "      <td>This is a fun story about three cats in the ci...</td>\n",
       "      <td>Cat Pirates!</td>\n",
       "      <td>1467158400</td>\n",
       "      <td>NaN</td>\n",
       "    </tr>\n",
       "    <tr>\n",
       "      <th>459270</th>\n",
       "      <td>5</td>\n",
       "      <td>True</td>\n",
       "      <td>AGBVBXSAJDD4H</td>\n",
       "      <td>B01HJENY3Y</td>\n",
       "      <td>Honey let me tell you Ms. Kia must have been r...</td>\n",
       "      <td>Glad Tuesday received her happy ever after</td>\n",
       "      <td>1467331200</td>\n",
       "      <td>NaN</td>\n",
       "    </tr>\n",
       "  </tbody>\n",
       "</table>\n",
       "<p>459271 rows × 8 columns</p>\n",
       "</div>"
      ],
      "text/plain": [
       "        overall  verified      reviewerID        asin  \\\n",
       "0             5      True   A8WQ7MAG3HFOZ  B000FA5KK0   \n",
       "1             5      True   A1E0MODSRYP7O  B000FA5KK0   \n",
       "2             5      True    AFVJCR70132Z  B000FBFMHU   \n",
       "3             5      True  A35TPI5B6O08A0  B000FBFMHU   \n",
       "4             5      True  A25VQSS06RDWMJ  B000FBFMHU   \n",
       "...         ...       ...             ...         ...   \n",
       "459266        4      True  A2GCEOF7KVQK1U  B01HJCNGZ2   \n",
       "459267        5      True  A3ETWQJ8WRQFHX  B01HJCNGZ2   \n",
       "459268        5      True   ARKWPH17ITFGS  B01HJCNGZ2   \n",
       "459269        5      True   AQ62OQDHMHBLY  B01HJCNGZ2   \n",
       "459270        5      True   AGBVBXSAJDD4H  B01HJENY3Y   \n",
       "\n",
       "                                               reviewText  \\\n",
       "0                            Love Max, always a fun twist   \n",
       "1                           As usual for him, a good book   \n",
       "2       This book was well written and well edited. It...   \n",
       "3       This true story is amazing.  All the things he...   \n",
       "4                         It was a fun adventure to read.   \n",
       "...                                                   ...   \n",
       "459266  Cute picture book for students in the primary ...   \n",
       "459267  I love the three kittens, Charlie, Grace, and ...   \n",
       "459268  My son has read (and fallen in love) with seve...   \n",
       "459269  This is a fun story about three cats in the ci...   \n",
       "459270  Honey let me tell you Ms. Kia must have been r...   \n",
       "\n",
       "                                           summary  unixReviewTime vote  \n",
       "0                                       Five Stars      1473984000  NaN  \n",
       "1                                           a good      1456963200  NaN  \n",
       "2                                       Great book      1518480000  NaN  \n",
       "3                                          Amazing      1504828800  NaN  \n",
       "4                                       Five Stars      1494720000  NaN  \n",
       "...                                            ...             ...  ...  \n",
       "459266                              CAT CITY CAPER      1479254400  NaN  \n",
       "459267                  Kitties, Pirates and Dawg!      1470700800  NaN  \n",
       "459268     ) I think this is the best book that Mr      1468540800  NaN  \n",
       "459269                                Cat Pirates!      1467158400  NaN  \n",
       "459270  Glad Tuesday received her happy ever after      1467331200  NaN  \n",
       "\n",
       "[459271 rows x 8 columns]"
      ]
     },
     "execution_count": 16,
     "metadata": {},
     "output_type": "execute_result"
    }
   ],
   "source": [
    "df = df.reset_index(drop=True) #reset index\n",
    "df"
   ]
  },
  {
   "cell_type": "code",
   "execution_count": 5,
   "metadata": {},
   "outputs": [],
   "source": [
    "df.to_csv(\"test.csv\")"
   ]
  },
  {
   "cell_type": "code",
   "execution_count": 12,
   "metadata": {},
   "outputs": [
    {
     "name": "stderr",
     "output_type": "stream",
     "text": [
      "C:\\Users\\cscam\\anaconda3\\lib\\site-packages\\pandas\\core\\indexing.py:1676: SettingWithCopyWarning: \n",
      "A value is trying to be set on a copy of a slice from a DataFrame.\n",
      "Try using .loc[row_indexer,col_indexer] = value instead\n",
      "\n",
      "See the caveats in the documentation: https://pandas.pydata.org/pandas-docs/stable/user_guide/indexing.html#returning-a-view-versus-a-copy\n",
      "  self._setitem_single_column(ilocs[0], value, pi)\n"
     ]
    }
   ],
   "source": [
    "test.loc[:,\"unixReviewTime\"] = pd.to_datetime(test[\"unixReviewTime\"], unit=\"s\")"
   ]
  },
  {
   "cell_type": "code",
   "execution_count": 9,
   "metadata": {},
   "outputs": [
    {
     "data": {
      "text/plain": [
       "0     2016-09-16\n",
       "1     2016-03-03\n",
       "2     2016-05-07\n",
       "3     2018-02-13\n",
       "4     2018-01-09\n",
       "         ...    \n",
       "995   2016-02-14\n",
       "996   2016-02-11\n",
       "997   2016-02-10\n",
       "998   2017-12-30\n",
       "999   2017-08-23\n",
       "Name: unixReviewTime, Length: 1000, dtype: datetime64[ns]"
      ]
     },
     "execution_count": 9,
     "metadata": {},
     "output_type": "execute_result"
    }
   ],
   "source": [
    "times = pd.to_datetime(test[\"unixReviewTime\"], unit=\"s\")\n",
    "times"
   ]
  },
  {
   "cell_type": "markdown",
   "metadata": {},
   "source": [
    "ASIN Lookup: https://amazon-asin.com/asincheck/?product_id=B000FA5KK0\n",
    "\n",
    "Columns to Drop\n",
    "\n",
    "\n",
    "DROP reviewTime\n",
    "DROP image\n",
    "\n",
    "DROP anything before 1/1/2010?"
   ]
  },
  {
   "cell_type": "markdown",
   "metadata": {},
   "source": [
    "Project Steps:\n",
    "- Data Cleaning / Loading\n",
    "- Data Scaling / Prep for ML Model\n",
    "- NLP Model Training / Creation\n",
    "- "
   ]
  }
 ],
 "metadata": {
  "interpreter": {
   "hash": "7c19f75c58f27f71661e07b8011b01fcc70f648a8eebfbb97779177ad9ca81a3"
  },
  "kernelspec": {
   "display_name": "Python 3.8.8 ('base')",
   "language": "python",
   "name": "python3"
  },
  "language_info": {
   "codemirror_mode": {
    "name": "ipython",
    "version": 3
   },
   "file_extension": ".py",
   "mimetype": "text/x-python",
   "name": "python",
   "nbconvert_exporter": "python",
   "pygments_lexer": "ipython3",
   "version": "3.8.8"
  },
  "orig_nbformat": 4
 },
 "nbformat": 4,
 "nbformat_minor": 2
}
